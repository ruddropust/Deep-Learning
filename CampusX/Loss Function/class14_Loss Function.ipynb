{
 "cells": [
  {
   "cell_type": "markdown",
   "metadata": {},
   "source": [
    "![Image](https://github.com/user-attachments/assets/8d17a536-ed81-44c8-84cb-eb527a90826f)"
   ]
  },
  {
   "cell_type": "markdown",
   "metadata": {},
   "source": [
    "# Loss Functions in Deep Learning\n",
    "\n",
    "```plaintext\n",
    "Loss Functions in DL\n",
    "├── Object Detection / Face Loss\n",
    "│\n",
    "├── Regression\n",
    "│   ├── Mean Squared Error (MSE)\n",
    "│   ├── Mean Absolute Error (MAE)\n",
    "│   └── Huber Loss\n",
    "│\n",
    "├── Classification\n",
    "│   ├── Binary Cross-Entropy\n",
    "│   ├── Categorical Cross-Entropy\n",
    "│   └── Hinge Loss\n",
    "│\n",
    "├── Autoencoders\n",
    "│   └── KL Divergence\n",
    "│\n",
    "├── GAN (Generative Adversarial Networks)\n",
    "│   ├── Discriminator Loss\n",
    "│   ├── Minimax Loss\n",
    "│   └── GAN Loss\n",
    "│\n",
    "└── Embedding Loss\n",
    "    └── Triplet Loss\n"
   ]
  },
  {
   "cell_type": "markdown",
   "metadata": {},
   "source": [
    "\n",
    "# Cost Function vs Loss Function\n",
    "\n",
    "| **Aspect**            | **Cost Function**                                                                 | **Loss Function**                                                                 |\n",
    "|------------------------|-----------------------------------------------------------------------------------|-----------------------------------------------------------------------------------|\n",
    "| **Definition**         | Aggregates the error across the entire dataset.                                   | Measures the error for a single data point.                                       |\n",
    "| **Scope**              | Used to evaluate the performance of the entire model.                            | Used during training to update model weights for each data point.                |\n",
    "| **Granularity**        | Operates on the dataset level.                                                    | Operates on the individual sample level.                                         |\n",
    "| **Examples**           | Mean Squared Error (MSE), Mean Absolute Error (MAE), Cross-Entropy Cost Function. | Binary Cross-Entropy, Categorical Cross-Entropy, Hinge Loss, Triplet Loss, etc.  |\n",
    "| **Usage**              | Guides the optimization process by providing a global measure of model accuracy.  | Guides the gradient descent for each training example.                           |\n"
   ]
  }
 ],
 "metadata": {
  "kernelspec": {
   "display_name": "base",
   "language": "python",
   "name": "python3"
  },
  "language_info": {
   "codemirror_mode": {
    "name": "ipython",
    "version": 3
   },
   "file_extension": ".py",
   "mimetype": "text/x-python",
   "name": "python",
   "nbconvert_exporter": "python",
   "pygments_lexer": "ipython3",
   "version": "3.12.3"
  }
 },
 "nbformat": 4,
 "nbformat_minor": 2
}
