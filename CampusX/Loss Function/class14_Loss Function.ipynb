{
 "cells": [
  {
   "cell_type": "markdown",
   "metadata": {},
   "source": [
    "![Image](https://github.com/user-attachments/assets/8d17a536-ed81-44c8-84cb-eb527a90826f)"
   ]
  },
  {
   "cell_type": "markdown",
   "metadata": {},
   "source": [
    "# Loss Functions in Deep Learning\n",
    "\n",
    "```plaintext\n",
    "Loss Functions in DL\n",
    "├── Object Detection / Face Loss\n",
    "│\n",
    "├── Regression\n",
    "│   ├── Mean Squared Error (MSE)\n",
    "│   ├── Mean Absolute Error (MAE)\n",
    "│   └── Huber Loss\n",
    "│\n",
    "├── Classification\n",
    "│   ├── Binary Cross-Entropy\n",
    "│   ├── Categorical Cross-Entropy\n",
    "│   └── Hinge Loss\n",
    "│\n",
    "├── Autoencoders\n",
    "│   └── KL Divergence\n",
    "│\n",
    "├── GAN (Generative Adversarial Networks)\n",
    "│   ├── Discriminator Loss\n",
    "│   ├── Minimax Loss\n",
    "│   └── GAN Loss\n",
    "│\n",
    "└── Embedding Loss\n",
    "    └── Triplet Loss\n"
   ]
  },
  {
   "cell_type": "markdown",
   "metadata": {},
   "source": [
    "\n",
    "# Cost Function vs Loss Function\n",
    "\n",
    "| **Aspect**            | **Cost Function**                                                                 | **Loss Function**                                                                 |\n",
    "|------------------------|-----------------------------------------------------------------------------------|-----------------------------------------------------------------------------------|\n",
    "| **Definition**         | Aggregates the error across the entire dataset.                                   | Measures the error for a single data point.                                       |\n",
    "| **Scope**              | Used to evaluate the performance of the entire model.                            | Used during training to update model weights for each data point.                |\n",
    "| **Granularity**        | Operates on the dataset level.                                                    | Operates on the individual sample level.                                         |\n",
    "| **Examples**           | Mean Squared Error (MSE), Mean Absolute Error (MAE), Cross-Entropy Cost Function. | Binary Cross-Entropy, Categorical Cross-Entropy, Hinge Loss, Triplet Loss, etc.  |\n",
    "| **Usage**              | Guides the optimization process by providing a global measure of model accuracy.  | Guides the gradient descent for each training example.                           |\n"
   ]
  },
  {
   "cell_type": "markdown",
   "metadata": {},
   "source": [
    "# Use Cases for Loss Functions\n",
    "\n",
    "1. **Mean Squared Error (MSE)**:\n",
    "    - Use Case: Regression tasks.\n",
    "    - Example: Predicting house prices, stock prices, or any continuous value.\n",
    "\n",
    "2. **Mean Absolute Error (MAE)**:\n",
    "    - Use Case: Regression tasks where outliers need less influence.\n",
    "    - Example: Predicting median income in a region.\n",
    "\n",
    "3. **Huber Loss**:\n",
    "    - Use Case: Regression tasks with robustness to outliers.\n",
    "    - Example: Predicting sensor readings in noisy environments.\n",
    "\n",
    "4. **Binary Cross-Entropy**:\n",
    "    - Use Case: Binary classification tasks.\n",
    "    - Example: Spam email detection, fraud detection.\n",
    "\n",
    "5. **Categorical Cross-Entropy**:\n",
    "    - Use Case: Multi-class classification tasks.\n",
    "    - Example: Image classification (e.g., identifying objects in images).\n",
    "\n",
    "6. **Hinge Loss**:\n",
    "    - Use Case: Classification tasks with Support Vector Machines (SVMs).\n",
    "    - Example: Separating two classes in high-dimensional data.\n",
    "\n",
    "7. **KL Divergence**:\n",
    "    - Use Case: Autoencoders and probabilistic models.\n",
    "    - Example: Variational Autoencoders (VAEs) for generating new data.\n",
    "\n",
    "8. **GAN Loss**:\n",
    "    - Use Case: Generative Adversarial Networks (GANs).\n",
    "    - Example: Generating realistic images or videos.\n",
    "\n",
    "9. **Triplet Loss**:\n",
    "    - Use Case: Embedding learning and similarity tasks.\n",
    "    - Example: Face recognition, where similar faces are closer in embedding space."
   ]
  }
 ],
 "metadata": {
  "kernelspec": {
   "display_name": "base",
   "language": "python",
   "name": "python3"
  },
  "language_info": {
   "codemirror_mode": {
    "name": "ipython",
    "version": 3
   },
   "file_extension": ".py",
   "mimetype": "text/x-python",
   "name": "python",
   "nbconvert_exporter": "python",
   "pygments_lexer": "ipython3",
   "version": "3.12.3"
  }
 },
 "nbformat": 4,
 "nbformat_minor": 2
}
