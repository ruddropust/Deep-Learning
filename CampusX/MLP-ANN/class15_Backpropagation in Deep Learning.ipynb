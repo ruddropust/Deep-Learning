{
 "cells": [
  {
   "cell_type": "markdown",
   "metadata": {},
   "source": [
    "Backpropagation is one of the important concepts of a neural network. Our task is to classify our data best. For this, we have to update the weights of parameter and bias, but how can we do that in a deep neural network? In the linear regression model, we use gradient descent to optimize the parameter. Similarly here we also use gradient descent algorithm using Backpropagation."
   ]
  },
  {
   "cell_type": "markdown",
   "metadata": {},
   "source": [
    "The main features of Backpropagation are the iterative, recursive and efficient method through which it calculates the updated weight to improve the network until it is not able to perform the task for which it is being trained. Derivatives of the activation function to be known at network design time is required to Backpropagation."
   ]
  },
  {
   "cell_type": "markdown",
   "metadata": {},
   "source": [
    "\n",
    "### Algorithm for Backpropagation\n",
    "\n",
    "1. **Initialization**: \n",
    "    - Randomly initialize the weights and biases of the network.\n",
    "\n",
    "2. **Forward Propagation**:\n",
    "    - Pass the input data through the network layer by layer.\n",
    "    - Compute the output of each neuron using the activation function.\n",
    "\n",
    "3. **Compute Loss**:\n",
    "    - Calculate the error (loss) by comparing the predicted output with the actual target value using a loss function.\n",
    "\n",
    "4. **Backward Propagation**:\n",
    "    - Compute the gradient of the loss function with respect to each weight and bias using the chain rule.\n",
    "    - Propagate the error backward through the network, layer by layer.\n",
    "\n",
    "5. **Update Weights and Biases**:\n",
    "    - Adjust the weights and biases using the gradients and a learning rate.\n",
    "\n",
    "6. **Repeat**:\n",
    "    - Repeat steps 2 to 5 for a fixed number of iterations or until the loss converges to a minimum.\n",
    "\n",
    "This iterative process helps the neural network learn and improve its predictions over time.\n",
    "\n"
   ]
  }
 ],
 "metadata": {
  "kernelspec": {
   "display_name": "base",
   "language": "python",
   "name": "python3"
  },
  "language_info": {
   "name": "python",
   "version": "3.12.3"
  }
 },
 "nbformat": 4,
 "nbformat_minor": 2
}
