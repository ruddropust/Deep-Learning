{
 "cells": [
  {
   "cell_type": "markdown",
   "metadata": {},
   "source": [
    "![Image](https://github.com/user-attachments/assets/f87e9297-58a1-44c1-9830-673f57d60e45)"
   ]
  },
  {
   "cell_type": "markdown",
   "metadata": {},
   "source": [
    "<a href=\"https://playground.tensorflow.org/\" target=\"_blank\" \n",
    "   style=\"display: inline-block; padding: 10px 20px; font-size: 16px; font-weight: bold; \n",
    "          color: white; background-color: #008CBA; border: none; border-radius: 5px; \n",
    "          text-decoration: none; cursor: pointer;\">\n",
    "    Go to TensorFlow Playground\n",
    "</a>\n"
   ]
  }
 ],
 "metadata": {
  "kernelspec": {
   "display_name": "base",
   "language": "python",
   "name": "python3"
  },
  "language_info": {
   "name": "python",
   "version": "3.12.3"
  }
 },
 "nbformat": 4,
 "nbformat_minor": 2
}
