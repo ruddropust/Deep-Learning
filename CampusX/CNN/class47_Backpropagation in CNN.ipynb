{
 "cells": [
  {
   "cell_type": "markdown",
   "metadata": {},
   "source": [
    "A trainable parameter is a parameter in a machine learning model that is learned from the training data. These parameters are adjusted during the training process to minimize the loss function and improve the model's performance. Examples of trainable parameters include weights and biases in neural networks.\n",
    "\n",
    "### Example of Trainable Parameters in a Neural Network\n",
    "\n",
    "In a simple neural network with one hidden layer, the trainable parameters are the weights and biases of the connections between the input layer, hidden layer, and output layer.\n",
    "\n",
    "```python\n",
    "import tensorflow as tf\n",
    "from tensorflow.keras.models import Sequential\n",
    "from tensorflow.keras.layers import Dense\n",
    "\n",
    "# Define a simple neural network model\n",
    "model = Sequential([\n",
    "    Dense(10, input_shape=(5,), activation='relu'),  # Hidden layer with 10 neurons\n",
    "    Dense(1, activation='sigmoid')  # Output layer with 1 neuron\n",
    "])\n",
    "\n",
    "# Compile the model\n",
    "model.compile(optimizer='adam', loss='binary_crossentropy')\n",
    "\n",
    "# Display the model's architecture\n",
    "model.summary()\n",
    "```\n",
    "\n",
    "In this example, the trainable parameters are the weights and biases of the `Dense` layers. The `model.summary()` function will display the total number of trainable parameters in the model."
   ]
  },
  {
   "cell_type": "markdown",
   "metadata": {},
   "source": [
    "![Image](https://github.com/user-attachments/assets/55463c9a-f8fe-41f2-b2b7-87aa285e1e37)\n",
    "\n",
    "![Image](https://github.com/user-attachments/assets/55e225fd-006a-4d67-bdc1-c6737e3fa69c)\n",
    "\n",
    "\n",
    "![Image](https://github.com/user-attachments/assets/be487b84-15a0-40cd-bda3-24cd6966149b)"
   ]
  },
  {
   "cell_type": "markdown",
   "metadata": {},
   "source": [
    "![Image](https://github.com/user-attachments/assets/8a699736-6373-43dc-972b-8f73cc89012c)"
   ]
  },
  {
   "cell_type": "markdown",
   "metadata": {},
   "source": [
    "\n",
    "### Backpropagation in Convolutional Neural Networks (CNNs)\n",
    "\n",
    "Backpropagation is a fundamental algorithm used for training neural networks, including Convolutional Neural Networks (CNNs). It involves a two-step process: forward pass and backward pass.\n",
    "\n",
    "1. **Forward Pass**: During the forward pass, the input data is passed through the network layer by layer, and the output is computed. This output is then compared to the actual target values to calculate the loss (error).\n",
    "\n",
    "2. **Backward Pass**: In the backward pass, the error is propagated back through the network to update the weights and biases. This is done using the gradient of the loss function with respect to each weight. The gradients are computed using the chain rule of calculus, and the weights are updated using an optimization algorithm like Gradient Descent.\n",
    "\n",
    "In CNNs, backpropagation involves the following steps:\n",
    "- **Convolutional Layers**: Gradients are computed for the filters (kernels) used in the convolution operations.\n",
    "- **Pooling Layers**: Gradients are passed through pooling layers, typically unchanged, as pooling layers do not have trainable parameters.\n",
    "- **Fully Connected Layers**: Gradients are computed for the weights and biases in the fully connected layers.\n",
    "\n",
    "The process of backpropagation ensures that the network learns to minimize the loss function, thereby improving its performance on the training data.\n"
   ]
  },
  {
   "cell_type": "markdown",
   "metadata": {},
   "source": [
    "![Image](https://github.com/user-attachments/assets/5fa66eab-84f5-44a0-b688-07b53498812b)\n",
    "\n",
    "![Image](https://github.com/user-attachments/assets/6f9912c0-a613-45da-9c03-9966b08fa417)\n",
    "\n",
    "![Image](https://github.com/user-attachments/assets/e18a9b3b-a4fe-4b93-900b-24b88f1c2d50)\n",
    "\n",
    "![Image](https://github.com/user-attachments/assets/ad0ad2cb-eb79-417f-aacd-266d8920616d)\n",
    "\n",
    "![Image](https://github.com/user-attachments/assets/2fcf82f4-8edc-41ce-876b-447f0fd539dc)"
   ]
  }
 ],
 "metadata": {
  "kernelspec": {
   "display_name": "base",
   "language": "python",
   "name": "python3"
  },
  "language_info": {
   "name": "python",
   "version": "3.12.3"
  }
 },
 "nbformat": 4,
 "nbformat_minor": 2
}
