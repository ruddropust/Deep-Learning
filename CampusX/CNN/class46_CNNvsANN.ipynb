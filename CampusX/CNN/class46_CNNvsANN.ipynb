{
 "cells": [
  {
   "cell_type": "markdown",
   "metadata": {},
   "source": [
    "# CNN vs ANN\n",
    "\n",
    "## Convolutional Neural Networks (CNN)\n",
    "- **Architecture**: Consists of convolutional layers, pooling layers, and fully connected layers.\n",
    "- **Use Case**: Primarily used for image and video recognition, image classification, and computer vision tasks.\n",
    "- **Feature Extraction**: Automatically detects important features from images using convolutional layers.\n",
    "- **Spatial Hierarchy**: Captures spatial hierarchies in data through convolution and pooling operations.\n",
    "- **Parameter Sharing**: Uses parameter sharing which reduces the number of parameters and computational cost.\n",
    "\n",
    "## Artificial Neural Networks (ANN)\n",
    "- **Architecture**: Consists of input layers, hidden layers, and output layers, all fully connected.\n",
    "- **Use Case**: Used for a wide range of applications including regression, classification, and time-series prediction.\n",
    "- **Feature Extraction**: Requires manual feature extraction; does not inherently capture spatial hierarchies.\n",
    "- **Spatial Hierarchy**: Does not inherently capture spatial hierarchies in data.\n",
    "- **Parameter Sharing**: Does not use parameter sharing, leading to a larger number of parameters and higher computational cost.\n",
    "\n",
    "## Key Differences\n",
    "- **Structure**: CNNs have specialized layers (convolutional and pooling) for handling spatial data, while ANNs are fully connected.\n",
    "- **Application**: CNNs are more effective for image-related tasks, whereas ANNs are more general-purpose.\n",
    "- **Efficiency**: CNNs are more efficient in handling large images due to parameter sharing and reduced number of parameters."
   ]
  },
  {
   "cell_type": "markdown",
   "metadata": {},
   "source": [
    "![Image](https://github.com/user-attachments/assets/844b104e-3b4f-4f72-99b0-5c12bb1418c6)"
   ]
  },
  {
   "cell_type": "markdown",
   "metadata": {},
   "source": [
    "## CNN vs ANN Comparison\n",
    "\n",
    "| Feature                  | CNN (Convolutional Neural Network)      | ANN (Artificial Neural Network)         |\n",
    "|--------------------------|----------------------------------------|-----------------------------------------|\n",
    "| **Architecture**         | Convolutional, pooling, fully connected layers | Fully connected layers (input, hidden, output) |\n",
    "| **Best For**             | Image processing, computer vision tasks | Structured/tabular data, general ML tasks |\n",
    "| **Feature Extraction**   | Automatic (via convolutional layers)   | Manual (requires preprocessing)         |\n",
    "| **Computational Complexity** | Higher (due to convolution operations) | Lower (simple matrix multiplications) |\n",
    "| **Spatial Information**  | Captures spatial hierarchies           | Does not retain spatial relationships  |\n",
    "| **Weight Sharing**       | Uses shared weights, reducing parameters | Each neuron has independent weights |\n",
    "| **Overfitting**         | Less prone due to weight sharing        | More prone due to large parameters |\n",
    "| **Training Data Requirement** | Requires large datasets             | Can work with smaller datasets |\n",
    "| **Performance on Images** | Excels in image classification, object detection | Poor at image tasks |\n",
    "| **Common Applications**  | Face recognition, medical imaging, self-driving cars | Stock prediction, NLP, recommendation systems |\n",
    "\n"
   ]
  },
  {
   "cell_type": "markdown",
   "metadata": {},
   "source": [
    "### Calculating Learnable Parameters in CNN\n",
    "\n",
    "To calculate the learnable parameters in a Convolutional Neural Network (CNN), follow these steps:\n",
    "\n",
    "---\n",
    "\n",
    "#### 1. Convolutional Layer:\n",
    "- **Formula**:\n",
    "\n",
    "  $$\n",
    "  (K \\times K \\times C_{in} + 1) \\times C_{out}\n",
    "  $$\n",
    "\n",
    "- Where:\n",
    "  - $K$ is the kernel size (e.g., 3 for a $3 \\times 3$ kernel)\n",
    "  - $C_{in}$ is the number of input channels\n",
    "  - $C_{out}$ is the number of output channels (filters)\n",
    "  - $+1$ accounts for the bias term\n",
    "\n",
    "---\n",
    "\n",
    "#### 2. Fully Connected Layer:\n",
    "- **Formula**:\n",
    "\n",
    "  $$\n",
    "  (N_{in} + 1) \\times N_{out}\n",
    "  $$\n",
    "\n",
    "- Where:\n",
    "  - $N_{in}$ is the number of input neurons\n",
    "  - $N_{out}$ is the number of output neurons\n",
    "  - $+1$ accounts for the bias term\n",
    "\n",
    "---\n",
    "\n",
    "#### 3. Example Calculation:\n",
    "- Suppose we have a **convolutional layer** with:\n",
    "  - $3 \\times 3$ kernel\n",
    "  - $C_{in} = 3$ (input channels)\n",
    "  - $C_{out} = 64$ (output channels)\n",
    "  \n",
    "  The number of learnable parameters:\n",
    "\n",
    "  $$\n",
    "  (3 \\times 3 \\times 3 + 1) \\times 64 = 1,792\n",
    "  $$\n",
    "\n",
    "- Suppose we have a **fully connected layer** with:\n",
    "  - $N_{in} = 128$ (input neurons)\n",
    "  - $N_{out} = 10$ (output neurons)\n",
    "\n",
    "  The number of learnable parameters:\n",
    "\n",
    "  $$\n",
    "  (128 + 1) \\times 10 = 1,290\n",
    "  $$\n",
    "\n",
    "By summing the learnable parameters of all layers, you get the **total number of learnable parameters** in the CNN.\n"
   ]
  },
  {
   "cell_type": "markdown",
   "metadata": {},
   "source": [
    "![Image](https://github.com/user-attachments/assets/c089bddc-6639-4a5c-bb29-6e345e62cd37)"
   ]
  },
  {
   "cell_type": "markdown",
   "metadata": {},
   "source": [
    "### Learnable Parameters Calculation\n",
    "\n",
    "Given:\n",
    "- **Input Shape**: (228, 228, 3)\n",
    "- **Kernel Size**: $3 \\times 3$\n",
    "- **Number of Filters**: 50\n",
    "- **Stride**: 1 (Assumed)\n",
    "- **Padding**: None (Valid Convolution)\n",
    "- **Output Shape**: (226, 226, 50)\n",
    "\n",
    "#### Learnable Parameters Formula:\n",
    "$$\n",
    "\\text{Learnable Parameters} = (K \\times K \\times C_{\\text{in}} + 1) \\times C_{\\text{out}}\n",
    "$$\n",
    "\n",
    "Substituting the values:\n",
    "\n",
    "$$\n",
    "(3 \\times 3 \\times 3 + 1) \\times 50 = (27 + 1) \\times 50 = 28 \\times 50 = 1400\n",
    "$$\n",
    "\n",
    "Thus, the total **learnable parameters** in this convolutional layer are **1,400**.\n"
   ]
  },
  {
   "cell_type": "markdown",
   "metadata": {},
   "source": [
    "![Image](https://github.com/user-attachments/assets/d0675cc8-5f80-47a8-8a57-307705755925)"
   ]
  },
  {
   "cell_type": "markdown",
   "metadata": {},
   "source": [
    "\n",
    "### Factors Affecting Learnable Parameters in CNN\n",
    "\n",
    "The number of learnable parameters in a Convolutional Neural Network (CNN) depends on several factors:\n",
    "\n",
    "1. **Kernel Size (K)**:\n",
    "    - The size of the convolutional filter (e.g., 3x3, 5x5).\n",
    "    - Larger kernels have more parameters.\n",
    "\n",
    "2. **Number of Input Channels (C_in)**:\n",
    "    - The depth of the input volume (e.g., 3 for RGB images).\n",
    "    - More input channels increase the number of parameters.\n",
    "\n",
    "3. **Number of Output Channels (C_out)**:\n",
    "    - The number of filters or feature maps produced by the convolutional layer.\n",
    "    - More output channels result in more parameters.\n",
    "\n",
    "4. **Bias Term**:\n",
    "    - Each filter has an associated bias term.\n",
    "    - Adding bias increases the number of parameters by the number of output channels.\n",
    "\n",
    "5. **Fully Connected Layers**:\n",
    "    - The number of neurons in the input and output layers.\n",
    "    - More neurons lead to more parameters.\n",
    "\n",
    "6. **Network Depth**:\n",
    "    - The number of layers in the network.\n",
    "    - Deeper networks generally have more parameters.\n",
    "\n",
    "7. **Pooling Layers**:\n",
    "    - Pooling layers do not have learnable parameters but affect the input size of subsequent layers.\n",
    "\n",
    "Understanding these factors helps in designing efficient CNN architectures with the desired number of learnable parameters.\n"
   ]
  }
 ],
 "metadata": {
  "kernelspec": {
   "display_name": "base",
   "language": "python",
   "name": "python3"
  },
  "language_info": {
   "name": "python",
   "version": "3.12.7"
  }
 },
 "nbformat": 4,
 "nbformat_minor": 2
}
