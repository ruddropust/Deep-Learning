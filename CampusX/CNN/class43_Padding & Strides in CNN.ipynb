{
 "cells": [
  {
   "cell_type": "markdown",
   "metadata": {},
   "source": [
    "Padding in the context of Convolutional Neural Networks (CNNs) refers to the process of adding extra pixels around the border of an image. This is done to control the spatial dimensions of the output feature map. There are two main types of padding:\n",
    "\n",
    "1. **Valid Padding (No Padding)**: No padding is added to the input image. This results in an output feature map that is smaller than the input.\n",
    "2. **Same Padding**: Padding is added such that the output feature map has the same spatial dimensions as the input.\n",
    "\n",
    "### Why Use Padding?\n",
    "- **Preserve Spatial Dimensions**: By using padding, you can ensure that the output feature map has the same width and height as the input, which can be useful for building deeper networks.\n",
    "- **Better Edge Detection**: Padding allows the convolutional filter to cover the edges of the input image, which can improve the detection of features near the borders.\n",
    "\n",
    "### Example\n",
    "Consider a 5x5 input image and a 3x3 filter with a stride of 1.\n",
    "\n",
    "#### Without Padding (Valid Padding)\n",
    "The output feature map will be smaller:\n",
    "- Input: 5x5\n",
    "- Filter: 3x3\n",
    "- Output: (5 - 3 + 1) x (5 - 3 + 1) = 3x3\n",
    "\n",
    "#### With Padding (Same Padding)\n",
    "Padding of 1 pixel is added around the input:\n",
    "- Input: 5x5\n",
    "- Padded Input: 7x7 (after adding 1 pixel padding on all sides)\n",
    "- Filter: 3x3\n",
    "- Output: (5 + 2*1 - 3 + 1) x (5 + 2*1 - 3 + 1) = 5x5\n",
    "\n",
    "### Code Example in Python (using TensorFlow/Keras)\n",
    "```python\n",
    "import tensorflow as tf\n",
    "from tensorflow.keras import layers\n",
    "\n",
    "# Example input\n",
    "input_shape = (28, 28, 1)  # 28x28 grayscale image\n",
    "\n",
    "# Model with padding\n",
    "model = tf.keras.Sequential([\n",
    "    layers.Conv2D(32, (3, 3), padding='same', input_shape=input_shape),\n",
    "    layers.Activation('relu')\n",
    "])\n",
    "\n",
    "# Model without padding\n",
    "model_no_padding = tf.keras.Sequential([\n",
    "    layers.Conv2D(32, (3, 3), padding='valid', input_shape=input_shape),\n",
    "    layers.Activation('relu')\n",
    "])\n",
    "\n",
    "# Print model summaries\n",
    "model.summary()\n",
    "model_no_padding.summary()\n",
    "```\n",
    "\n",
    "This code defines two simple CNN models: one with 'same' padding and one with 'valid' padding, and prints their summaries to show the difference in output dimensions."
   ]
  }
 ],
 "metadata": {
  "language_info": {
   "name": "python"
  }
 },
 "nbformat": 4,
 "nbformat_minor": 2
}
