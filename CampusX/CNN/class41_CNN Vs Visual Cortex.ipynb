{
 "cells": [
  {
   "cell_type": "markdown",
   "metadata": {},
   "source": [
    "# Human Visual Cortex\n",
    "\n",
    "The human visual cortex is a part of the brain that processes visual information. It is located in the occipital lobe at the back of the brain. The visual cortex is responsible for interpreting and understanding visual stimuli from the eyes.\n",
    "\n",
    "![Human Visual Cortex](https://opticianworks.com/wp-content/uploads/2018/01/Human_visual_pathway-2-1.png)\n",
    "\n",
    "The visual cortex is divided into several areas, each responsible for different aspects of vision, such as color, motion, and depth perception. These areas work together to create a coherent visual experience."
   ]
  },
  {
   "cell_type": "markdown",
   "metadata": {},
   "source": [
    "![HVC](https://encrypted-tbn0.gstatic.com/images?q=tbn:ANd9GcSfFKyq2r9F9vpMP2sga8IikjC1QQdG2fI0uA&s)"
   ]
  },
  {
   "cell_type": "markdown",
   "metadata": {},
   "source": [
    "![](https://encrypted-tbn0.gstatic.com/images?q=tbn:ANd9GcQGzIHM0SEB4JrrnjqArLT7N53m6XAKERqqOw&s)"
   ]
  },
  {
   "cell_type": "markdown",
   "metadata": {},
   "source": [
    "## The Cat Experiment: A Glimpse into the Brain’s Code\n",
    "In their Nobel Prize-winning experiment, Hubel and Wiesel set out to map how individual brain cells responded to visual stimuli. Their setup was simple yet brilliant:\n",
    "\n",
    "![](https://miro.medium.com/v2/resize:fit:720/format:webp/1*5IdHyNlo7NYe6tWgKZ1JYg.png)\n",
    "\n",
    "- A cat was shown different images while its brain activity was recorded.\n",
    "- At first, they expected neurons to react to simple dots of light.\n",
    "- But to their surprise, the neurons stayed silent.\n",
    "- Then, by accident, a thin black line moved across the screen — and suddenly, neurons fired intensely!\n",
    "#### What they found changed neuroscience forever:\n",
    "\n",
    "- The brain processes images by detecting edges first.\n",
    "- Different neurons respond to specific angles and orientations.\n",
    "- Higher levels of the brain combine these edges into complex shapes and objects."
   ]
  },
  {
   "cell_type": "markdown",
   "metadata": {},
   "source": [
    "## From Cats to AI: How CNNs Were Born\n",
    "Fast forward a few decades, and computer scientists like Yann LeCun were facing a big problem: How can we teach computers to recognize images?\n",
    "\n",
    "Inspired by Hubel and Wiesel’s discoveries, they designed Convolutional Neural Networks (CNNs) — a type of artificial intelligence that mimics the brain’s visual processing system.\n",
    "\n",
    "Just like the human visual cortex, CNNs analyze images in layers:\n",
    "\n",
    "- **First Layer:** Detects edges and lines.\n",
    "- **Middle Layers:** Recognize patterns and textures.\n",
    "- **Final Layers:** Identify complete objects.\n",
    "\n",
    "This approach was a game-changer. LeCun’s LeNet-5 was the first CNN to recognize handwritten digits, and later, AlexNet revolutionized AI by winning the 2012 ImageNet competition, proving CNNs’ unmatched power in image recognition.\n",
    "\n",
    "Today, CNNs are everywhere:\n",
    "\n",
    "- **Self-driving cars** use them to detect pedestrians and traffic lights.\n",
    "- **Medical imaging **relies on CNNs to spot diseases in X-rays.\n",
    "- **Facial recognition** and **augmented reality** depend on them to interact with the world.\n",
    "All of this, thanks to a simple experiment with a cat."
   ]
  }
 ],
 "metadata": {
  "kernelspec": {
   "display_name": "base",
   "language": "python",
   "name": "python3"
  },
  "language_info": {
   "name": "python",
   "version": "3.12.7"
  }
 },
 "nbformat": 4,
 "nbformat_minor": 2
}
