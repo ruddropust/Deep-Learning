{
 "cells": [
  {
   "cell_type": "markdown",
   "metadata": {},
   "source": [
    "\n",
    "### Pooling Layer\n",
    "\n",
    "A pooling layer is a crucial component in Convolutional Neural Networks (CNNs). It is used to reduce the spatial dimensions (width and height) of the input volume, thereby reducing the number of parameters and computation in the network. This helps to control overfitting and makes the network more robust.\n",
    "\n",
    "There are different types of pooling operations, such as:\n",
    "\n",
    "- **Max Pooling**: Takes the maximum value from the portion of the image covered by the filter.\n",
    "- **Average Pooling**: Takes the average value from the portion of the image covered by the filter.\n",
    "- **Global Pooling**: Reduces each feature map to a single value.\n",
    "\n",
    "Pooling layers are typically inserted between convolutional layers in a CNN architecture.\n",
    "\n",
    "![Image](https://github.com/user-attachments/assets/ca2b8576-006f-43e1-aa99-917c1cf26ee9)"
   ]
  },
  {
   "cell_type": "markdown",
   "metadata": {},
   "source": [
    "Pooling and strides are both techniques used in convolutional neural networks (CNNs) to reduce the spatial dimensions of feature maps. However, they serve different purposes and have distinct advantages.\n",
    "\n",
    "### Pooling\n",
    "Pooling layers reduce the spatial dimensions of the input by summarizing regions of the feature map. The most common types of pooling are max pooling and average pooling.\n",
    "\n",
    "- **Max Pooling**: Takes the maximum value from each region.\n",
    "- **Average Pooling**: Takes the average value from each region.\n",
    "- **Average Pooling**: Global pooling layers, such as GlobalMaxPooling2D and GlobalAveragePooling2D, reduce each feature map to a single value. Here's how you can add global pooling to your model:\n",
    "\n",
    "```python\n",
    "model.add(GlobalMaxPooling2D())\n",
    "# or\n",
    "model.add(GlobalAveragePooling2D())\n",
    "```\n",
    "\n",
    "# Example input feature map\n",
    "input_feature_map = np.array([[[1, 3, 2, 4],\n",
    "                               [5, 6, 7, 8],\n",
    "                               [9, 10, 11, 12],\n",
    "                               [13, 14, 15, 16]]])\n",
    "\n",
    "# Apply max pooling\n",
    "max_pooling_layer = MaxPooling2D(pool_size=(2, 2), strides=(2, 2))\n",
    "output_feature_map = max_pooling_layer(input_feature_map.reshape(1, 4, 4, 1))\n",
    "\n",
    "print(output_feature_map.numpy().reshape(2, 2))\n",
    "```\n",
    "\n",
    "This code will output:\n",
    "```\n",
    "[[ 6  8]\n",
    " [14 16]]\n",
    "```\n",
    "\n",
    "In this example, max pooling reduces the 4x4 input feature map to a 2x2 output feature map by taking the maximum value from each 2x2 region.\n",
    "\n",
    "In summary, while both pooling and strides are useful for reducing the spatial dimensions of feature maps, pooling is often preferred for its ability to capture important features and provide robustness to variations in the input."
   ]
  },
  {
   "cell_type": "markdown",
   "metadata": {},
   "source": [
    "## PRACTICAL"
   ]
  },
  {
   "cell_type": "code",
   "execution_count": 1,
   "metadata": {},
   "outputs": [],
   "source": [
    "import tensorflow\n",
    "from tensorflow import keras\n",
    "from tensorflow.keras import layers\n",
    "from tensorflow.keras.models import Sequential\n",
    "from tensorflow.keras.layers import Dense, Flatten, Conv2D, MaxPooling2D, Dropout"
   ]
  },
  {
   "cell_type": "code",
   "execution_count": 2,
   "metadata": {},
   "outputs": [
    {
     "name": "stderr",
     "output_type": "stream",
     "text": [
      "c:\\ProgramData\\anaconda3\\Lib\\site-packages\\keras\\src\\layers\\convolutional\\base_conv.py:107: UserWarning: Do not pass an `input_shape`/`input_dim` argument to a layer. When using Sequential models, prefer using an `Input(shape)` object as the first layer in the model instead.\n",
      "  super().__init__(activity_regularizer=activity_regularizer, **kwargs)\n"
     ]
    },
    {
     "data": {
      "text/html": [
       "<pre style=\"white-space:pre;overflow-x:auto;line-height:normal;font-family:Menlo,'DejaVu Sans Mono',consolas,'Courier New',monospace\"><span style=\"font-weight: bold\">Model: \"sequential\"</span>\n",
       "</pre>\n"
      ],
      "text/plain": [
       "\u001b[1mModel: \"sequential\"\u001b[0m\n"
      ]
     },
     "metadata": {},
     "output_type": "display_data"
    },
    {
     "data": {
      "text/html": [
       "<pre style=\"white-space:pre;overflow-x:auto;line-height:normal;font-family:Menlo,'DejaVu Sans Mono',consolas,'Courier New',monospace\">┏━━━━━━━━━━━━━━━━━━━━━━━━━━━━━━━━━┳━━━━━━━━━━━━━━━━━━━━━━━━┳━━━━━━━━━━━━━━━┓\n",
       "┃<span style=\"font-weight: bold\"> Layer (type)                    </span>┃<span style=\"font-weight: bold\"> Output Shape           </span>┃<span style=\"font-weight: bold\">       Param # </span>┃\n",
       "┡━━━━━━━━━━━━━━━━━━━━━━━━━━━━━━━━━╇━━━━━━━━━━━━━━━━━━━━━━━━╇━━━━━━━━━━━━━━━┩\n",
       "│ conv2d (<span style=\"color: #0087ff; text-decoration-color: #0087ff\">Conv2D</span>)                 │ (<span style=\"color: #00d7ff; text-decoration-color: #00d7ff\">None</span>, <span style=\"color: #00af00; text-decoration-color: #00af00\">26</span>, <span style=\"color: #00af00; text-decoration-color: #00af00\">26</span>, <span style=\"color: #00af00; text-decoration-color: #00af00\">32</span>)     │           <span style=\"color: #00af00; text-decoration-color: #00af00\">320</span> │\n",
       "├─────────────────────────────────┼────────────────────────┼───────────────┤\n",
       "│ max_pooling2d (<span style=\"color: #0087ff; text-decoration-color: #0087ff\">MaxPooling2D</span>)    │ (<span style=\"color: #00d7ff; text-decoration-color: #00d7ff\">None</span>, <span style=\"color: #00af00; text-decoration-color: #00af00\">13</span>, <span style=\"color: #00af00; text-decoration-color: #00af00\">13</span>, <span style=\"color: #00af00; text-decoration-color: #00af00\">32</span>)     │             <span style=\"color: #00af00; text-decoration-color: #00af00\">0</span> │\n",
       "├─────────────────────────────────┼────────────────────────┼───────────────┤\n",
       "│ conv2d_1 (<span style=\"color: #0087ff; text-decoration-color: #0087ff\">Conv2D</span>)               │ (<span style=\"color: #00d7ff; text-decoration-color: #00d7ff\">None</span>, <span style=\"color: #00af00; text-decoration-color: #00af00\">11</span>, <span style=\"color: #00af00; text-decoration-color: #00af00\">11</span>, <span style=\"color: #00af00; text-decoration-color: #00af00\">32</span>)     │         <span style=\"color: #00af00; text-decoration-color: #00af00\">9,248</span> │\n",
       "├─────────────────────────────────┼────────────────────────┼───────────────┤\n",
       "│ max_pooling2d_1 (<span style=\"color: #0087ff; text-decoration-color: #0087ff\">MaxPooling2D</span>)  │ (<span style=\"color: #00d7ff; text-decoration-color: #00d7ff\">None</span>, <span style=\"color: #00af00; text-decoration-color: #00af00\">5</span>, <span style=\"color: #00af00; text-decoration-color: #00af00\">5</span>, <span style=\"color: #00af00; text-decoration-color: #00af00\">32</span>)       │             <span style=\"color: #00af00; text-decoration-color: #00af00\">0</span> │\n",
       "├─────────────────────────────────┼────────────────────────┼───────────────┤\n",
       "│ flatten (<span style=\"color: #0087ff; text-decoration-color: #0087ff\">Flatten</span>)               │ (<span style=\"color: #00d7ff; text-decoration-color: #00d7ff\">None</span>, <span style=\"color: #00af00; text-decoration-color: #00af00\">800</span>)            │             <span style=\"color: #00af00; text-decoration-color: #00af00\">0</span> │\n",
       "├─────────────────────────────────┼────────────────────────┼───────────────┤\n",
       "│ dense (<span style=\"color: #0087ff; text-decoration-color: #0087ff\">Dense</span>)                   │ (<span style=\"color: #00d7ff; text-decoration-color: #00d7ff\">None</span>, <span style=\"color: #00af00; text-decoration-color: #00af00\">128</span>)            │       <span style=\"color: #00af00; text-decoration-color: #00af00\">102,528</span> │\n",
       "├─────────────────────────────────┼────────────────────────┼───────────────┤\n",
       "│ dense_1 (<span style=\"color: #0087ff; text-decoration-color: #0087ff\">Dense</span>)                 │ (<span style=\"color: #00d7ff; text-decoration-color: #00d7ff\">None</span>, <span style=\"color: #00af00; text-decoration-color: #00af00\">10</span>)             │         <span style=\"color: #00af00; text-decoration-color: #00af00\">1,290</span> │\n",
       "└─────────────────────────────────┴────────────────────────┴───────────────┘\n",
       "</pre>\n"
      ],
      "text/plain": [
       "┏━━━━━━━━━━━━━━━━━━━━━━━━━━━━━━━━━┳━━━━━━━━━━━━━━━━━━━━━━━━┳━━━━━━━━━━━━━━━┓\n",
       "┃\u001b[1m \u001b[0m\u001b[1mLayer (type)                   \u001b[0m\u001b[1m \u001b[0m┃\u001b[1m \u001b[0m\u001b[1mOutput Shape          \u001b[0m\u001b[1m \u001b[0m┃\u001b[1m \u001b[0m\u001b[1m      Param #\u001b[0m\u001b[1m \u001b[0m┃\n",
       "┡━━━━━━━━━━━━━━━━━━━━━━━━━━━━━━━━━╇━━━━━━━━━━━━━━━━━━━━━━━━╇━━━━━━━━━━━━━━━┩\n",
       "│ conv2d (\u001b[38;5;33mConv2D\u001b[0m)                 │ (\u001b[38;5;45mNone\u001b[0m, \u001b[38;5;34m26\u001b[0m, \u001b[38;5;34m26\u001b[0m, \u001b[38;5;34m32\u001b[0m)     │           \u001b[38;5;34m320\u001b[0m │\n",
       "├─────────────────────────────────┼────────────────────────┼───────────────┤\n",
       "│ max_pooling2d (\u001b[38;5;33mMaxPooling2D\u001b[0m)    │ (\u001b[38;5;45mNone\u001b[0m, \u001b[38;5;34m13\u001b[0m, \u001b[38;5;34m13\u001b[0m, \u001b[38;5;34m32\u001b[0m)     │             \u001b[38;5;34m0\u001b[0m │\n",
       "├─────────────────────────────────┼────────────────────────┼───────────────┤\n",
       "│ conv2d_1 (\u001b[38;5;33mConv2D\u001b[0m)               │ (\u001b[38;5;45mNone\u001b[0m, \u001b[38;5;34m11\u001b[0m, \u001b[38;5;34m11\u001b[0m, \u001b[38;5;34m32\u001b[0m)     │         \u001b[38;5;34m9,248\u001b[0m │\n",
       "├─────────────────────────────────┼────────────────────────┼───────────────┤\n",
       "│ max_pooling2d_1 (\u001b[38;5;33mMaxPooling2D\u001b[0m)  │ (\u001b[38;5;45mNone\u001b[0m, \u001b[38;5;34m5\u001b[0m, \u001b[38;5;34m5\u001b[0m, \u001b[38;5;34m32\u001b[0m)       │             \u001b[38;5;34m0\u001b[0m │\n",
       "├─────────────────────────────────┼────────────────────────┼───────────────┤\n",
       "│ flatten (\u001b[38;5;33mFlatten\u001b[0m)               │ (\u001b[38;5;45mNone\u001b[0m, \u001b[38;5;34m800\u001b[0m)            │             \u001b[38;5;34m0\u001b[0m │\n",
       "├─────────────────────────────────┼────────────────────────┼───────────────┤\n",
       "│ dense (\u001b[38;5;33mDense\u001b[0m)                   │ (\u001b[38;5;45mNone\u001b[0m, \u001b[38;5;34m128\u001b[0m)            │       \u001b[38;5;34m102,528\u001b[0m │\n",
       "├─────────────────────────────────┼────────────────────────┼───────────────┤\n",
       "│ dense_1 (\u001b[38;5;33mDense\u001b[0m)                 │ (\u001b[38;5;45mNone\u001b[0m, \u001b[38;5;34m10\u001b[0m)             │         \u001b[38;5;34m1,290\u001b[0m │\n",
       "└─────────────────────────────────┴────────────────────────┴───────────────┘\n"
      ]
     },
     "metadata": {},
     "output_type": "display_data"
    },
    {
     "data": {
      "text/html": [
       "<pre style=\"white-space:pre;overflow-x:auto;line-height:normal;font-family:Menlo,'DejaVu Sans Mono',consolas,'Courier New',monospace\"><span style=\"font-weight: bold\"> Total params: </span><span style=\"color: #00af00; text-decoration-color: #00af00\">113,386</span> (442.91 KB)\n",
       "</pre>\n"
      ],
      "text/plain": [
       "\u001b[1m Total params: \u001b[0m\u001b[38;5;34m113,386\u001b[0m (442.91 KB)\n"
      ]
     },
     "metadata": {},
     "output_type": "display_data"
    },
    {
     "data": {
      "text/html": [
       "<pre style=\"white-space:pre;overflow-x:auto;line-height:normal;font-family:Menlo,'DejaVu Sans Mono',consolas,'Courier New',monospace\"><span style=\"font-weight: bold\"> Trainable params: </span><span style=\"color: #00af00; text-decoration-color: #00af00\">113,386</span> (442.91 KB)\n",
       "</pre>\n"
      ],
      "text/plain": [
       "\u001b[1m Trainable params: \u001b[0m\u001b[38;5;34m113,386\u001b[0m (442.91 KB)\n"
      ]
     },
     "metadata": {},
     "output_type": "display_data"
    },
    {
     "data": {
      "text/html": [
       "<pre style=\"white-space:pre;overflow-x:auto;line-height:normal;font-family:Menlo,'DejaVu Sans Mono',consolas,'Courier New',monospace\"><span style=\"font-weight: bold\"> Non-trainable params: </span><span style=\"color: #00af00; text-decoration-color: #00af00\">0</span> (0.00 B)\n",
       "</pre>\n"
      ],
      "text/plain": [
       "\u001b[1m Non-trainable params: \u001b[0m\u001b[38;5;34m0\u001b[0m (0.00 B)\n"
      ]
     },
     "metadata": {},
     "output_type": "display_data"
    }
   ],
   "source": [
    "model = Sequential()\n",
    "model.add(Conv2D(32, kernel_size=(3, 3),padding=\"valid\", input_shape=(28, 28, 1), activation='relu'))\n",
    "model.add(MaxPooling2D(pool_size=(2, 2), strides=(2, 2), padding='valid'))\n",
    "model.add(Conv2D(32, kernel_size=(3, 3),padding=\"valid\", activation='relu'))\n",
    "model.add(MaxPooling2D(pool_size=(2, 2), strides=(2, 2), padding='valid'))\n",
    "\n",
    "model.add(Flatten())\n",
    "model.add(Dense(128, activation='relu'))\n",
    "model.add(Dense(10, activation='softmax'))\n",
    "model.summary()"
   ]
  },
  {
   "cell_type": "markdown",
   "metadata": {},
   "source": [
    "### Advantages of Pooling\n",
    "\n",
    "Pooling layers offer several benefits in Convolutional Neural Networks (CNNs):\n",
    "\n",
    "1. **Dimensionality Reduction**: Pooling reduces the size of the feature maps, which decreases the computational load and memory usage.\n",
    "2. **Translation Invariance**: Pooling helps the network become more robust to small translations of the input, making it less sensitive to the exact position of features.\n",
    "3. **Feature Extraction**: Pooling, especially max pooling, focuses on the most prominent features within a region, which can improve the network's ability to recognize patterns.\n",
    "4. **Overfitting Control**: By reducing the spatial dimensions, pooling helps to control overfitting by limiting the number of parameters and computations in the network.\n",
    "5. **Non-linearity**: Pooling introduces a non-linear down-sampling, which can help in learning more complex patterns.\n",
    "### Example Code\n",
    "\n",
    "Here's an example code snippet to illustrate the advantages of pooling:\n",
    "\n",
    "```python\n",
    "import numpy as np\n",
    "from tensorflow.keras.layers import MaxPooling2D\n",
    "\n",
    "# Example input feature map\n",
    "input_feature_map = np.array([[[1, 3, 2, 4],\n",
    "                               [5, 6, 7, 8],\n",
    "                               [9, 10, 11, 12],\n",
    "                               [13, 14, 15, 16]]])\n",
    "\n",
    "# Apply max pooling\n",
    "max_pooling_layer = MaxPooling2D(pool_size=(2, 2), strides=(2, 2))\n",
    "output_feature_map = max_pooling_layer(input_feature_map.reshape(1, 4, 4, 1))\n",
    "\n",
    "print(output_feature_map.numpy().reshape(2, 2))\n",
    "```\n",
    "\n",
    "This code will output:\n",
    "```\n",
    "[[ 6  8]\n",
    " [14 16]]\n",
    "```\n",
    "\n",
    "In this example, max pooling reduces the 4x4 input feature map to a 2x2 output feature map by taking the maximum value from each 2x2 region.\n",
    "### Enhanced Feature(In Maxpool)\n",
    "\n",
    "In addition to the advantages mentioned above, pooling layers can also enhance the feature extraction process by focusing on the most significant aspects of the input data. This can lead to better generalization and improved performance in various tasks such as image classification, object detection, and more."
   ]
  },
  {
   "cell_type": "markdown",
   "metadata": {},
   "source": [
    "### Disadvantages of Pooling\n",
    "\n",
    "While pooling layers offer several benefits, they also come with certain disadvantages:\n",
    "\n",
    "1. **Information Loss**: Pooling reduces the spatial dimensions of the input, which can lead to the loss of important information, especially in the case of max pooling where only the maximum value is retained.\n",
    "2. **Over-Simplification**: By summarizing regions of the feature map, pooling can sometimes oversimplify the data, potentially discarding subtle but important features.\n",
    "3. **Fixed Operation**: Pooling operations are fixed and do not adapt during training, which means they might not always capture the most relevant features for the task at hand.\n",
    "4. **Sensitivity to Pooling Size**: The choice of pooling size and stride can significantly impact the performance of the network. Poor choices can lead to excessive information loss or insufficient dimensionality reduction.\n",
    "5. **Reduced Localization**: Pooling can reduce the network's ability to precisely localize features within the input, which can be problematic for tasks requiring fine-grained spatial information, such as object detection and segmentation.\n",
    "\n",
    "Despite these disadvantages, pooling layers are still widely used in Convolutional Neural Networks due to their ability to reduce computational complexity and improve robustness to spatial variations."
   ]
  },
  {
   "cell_type": "markdown",
   "metadata": {},
   "source": [
    "### Where to Use Global Max Pooling\n",
    "\n",
    "Global Max Pooling is typically used towards the end of a Convolutional Neural Network (CNN) architecture, just before the fully connected layers. It reduces each feature map to a single value, which helps in reducing the number of parameters and computational complexity.\n",
    "\n",
    "In the current model, you can add Global Max Pooling after the last convolutional layer and before the fully connected layers. Here's how you can modify the model:\n",
    "\n",
    "```python\n",
    "from tensorflow.keras.layers import GlobalMaxPooling2D\n",
    "\n",
    "model = Sequential()\n",
    "model.add(Conv2D(32, kernel_size=(3, 3), padding=\"valid\", input_shape=(28, 28, 1), activation='relu'))\n",
    "model.add(MaxPooling2D(pool_size=(2, 2), strides=(2, 2), padding='valid'))\n",
    "model.add(Conv2D(32, kernel_size=(3, 3), padding=\"valid\", activation='relu'))\n",
    "model.add(MaxPooling2D(pool_size=(2, 2), strides=(2, 2), padding='valid'))\n",
    "\n",
    "# Add Global Max Pooling layer\n",
    "model.add(GlobalMaxPooling2D())\n",
    "\n",
    "model.add(Dense(128, activation='relu'))\n",
    "model.add(Dense(10, activation='softmax'))\n",
    "model.summary()\n",
    "```\n",
    "\n",
    "This modification will help in reducing the spatial dimensions of the feature maps to a single value per feature map, making the model more efficient."
   ]
  }
 ],
 "metadata": {
  "kernelspec": {
   "display_name": "base",
   "language": "python",
   "name": "python3"
  },
  "language_info": {
   "codemirror_mode": {
    "name": "ipython",
    "version": 3
   },
   "file_extension": ".py",
   "mimetype": "text/x-python",
   "name": "python",
   "nbconvert_exporter": "python",
   "pygments_lexer": "ipython3",
   "version": "3.12.7"
  }
 },
 "nbformat": 4,
 "nbformat_minor": 2
}
