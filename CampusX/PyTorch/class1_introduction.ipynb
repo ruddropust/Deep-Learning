{
 "cells": [
  {
   "cell_type": "markdown",
   "metadata": {},
   "source": [
    "<object data=\"pytorch.pdf\" type=\"application/pdf\" width=\"600\" height=\"400\">\n",
    "    <p>Your browser does not support PDFs. <a href=\"path/to/your/file.pdf\">Download the PDF</a>.</p>\n",
    "</object>\n"
   ]
  },
  {
   "cell_type": "code",
   "execution_count": 2,
   "metadata": {},
   "outputs": [
    {
     "name": "stdout",
     "output_type": "stream",
     "text": [
      "Requirement already satisfied: PyMuPDF in c:\\programdata\\anaconda3\\lib\\site-packages (1.25.4)\n",
      "Note: you may need to restart the kernel to use updated packages.\n",
      "Page 1 saved as output_page_1.png\n",
      "Page 2 saved as output_page_2.png\n",
      "Page 3 saved as output_page_3.png\n",
      "Page 4 saved as output_page_4.png\n",
      "Page 5 saved as output_page_5.png\n",
      "Page 6 saved as output_page_6.png\n",
      "Page 7 saved as output_page_7.png\n",
      "Page 8 saved as output_page_8.png\n",
      "Page 9 saved as output_page_9.png\n"
     ]
    }
   ],
   "source": [
    "# Install the PyMuPDF package\n",
    "%pip install PyMuPDF\n",
    "\n",
    "import fitz  # PyMuPDF\n",
    "\n",
    "# Open the PDF file\n",
    "pdf_document = fitz.open(r\"C:\\Users\\shark\\Desktop\\Deep-Learning\\CampusX\\PyTorch\\pytorch.pdf.pdf\")\n",
    "\n",
    "for page_num in range(pdf_document.page_count):\n",
    "    # Load the current page\n",
    "    page = pdf_document.load_page(page_num)\n",
    "    \n",
    "    # Render the page as a pixmap (image)\n",
    "    pix = page.get_pixmap()\n",
    "    \n",
    "    # Save the image for each page with a unique filename\n",
    "    output_filename = f\"output_page_{page_num + 1}.png\"\n",
    "    pix.save(output_filename)\n",
    "    print(f\"Page {page_num + 1} saved as {output_filename}\")\n",
    "\n",
    "# Close the PDF file\n",
    "pdf_document.close()\n",
    "\n"
   ]
  },
  {
   "cell_type": "markdown",
   "metadata": {},
   "source": [
    "![Image](https://github.com/user-attachments/assets/ceb307bf-2b9c-438a-aa9e-a7c121153d7e)\n",
    "\n",
    "![Image](https://github.com/user-attachments/assets/f580b490-ef17-446e-bb42-e878f44b240e)\n",
    "\n",
    "![Image](https://github.com/user-attachments/assets/194d9194-94af-4ecd-8f88-75aa5af64dbf)\n",
    "\n",
    "![Image](https://github.com/user-attachments/assets/8c6576f1-0e98-46ee-a0c2-3c4c430e5f80)\n",
    "\n",
    "![Image](https://github.com/user-attachments/assets/bf26b1fc-d88f-4c49-92ac-242def022ccd)\n",
    "\n",
    "![Image](https://github.com/user-attachments/assets/101cd644-549d-4939-973e-a276ed9e91c7)\n",
    "\n",
    "![Image](https://github.com/user-attachments/assets/fa42eeeb-632c-437f-bf58-d7fc9893258d)\n",
    "\n",
    "![Image](https://github.com/user-attachments/assets/ed4c7daf-efce-45bf-b024-4b3f76781266)\n",
    "\n",
    "![Image](https://github.com/user-attachments/assets/f0514b16-72f0-4b1d-b708-1dcf671b1fc7)"
   ]
  },
  {
   "cell_type": "markdown",
   "metadata": {},
   "source": [
    "<embed src=\"pytorch.pdf\" width=\"600\" height=\"400\" type=\"application/pdf\">\n"
   ]
  }
 ],
 "metadata": {
  "kernelspec": {
   "display_name": "base",
   "language": "python",
   "name": "python3"
  },
  "language_info": {
   "codemirror_mode": {
    "name": "ipython",
    "version": 3
   },
   "file_extension": ".py",
   "mimetype": "text/x-python",
   "name": "python",
   "nbconvert_exporter": "python",
   "pygments_lexer": "ipython3",
   "version": "3.12.3"
  }
 },
 "nbformat": 4,
 "nbformat_minor": 2
}
