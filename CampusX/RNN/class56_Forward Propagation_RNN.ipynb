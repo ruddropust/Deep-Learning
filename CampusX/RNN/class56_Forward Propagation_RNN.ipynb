{
 "cells": [
  {
   "cell_type": "markdown",
   "metadata": {},
   "source": [
    "# Introduction to RNN (Recurrent Neural Networks)\n",
    "\n",
    "Recurrent Neural Networks (RNNs) are a class of artificial neural networks designed to recognize patterns in sequences of data, such as time series, text, or speech. Unlike traditional feedforward neural networks, RNNs have connections that form directed cycles, allowing them to maintain a memory of previous inputs.\n",
    "\n",
    "## Key Features of RNNs\n",
    "- **Sequential Data Processing**: RNNs are well-suited for tasks where the order of data matters.\n",
    "- **Hidden State**: They maintain a hidden state that captures information about previous inputs.\n",
    "- **Parameter Sharing**: The same weights are applied across all time steps, reducing the number of parameters.\n",
    "\n",
    "## Applications of RNNs\n",
    "- Natural Language Processing (NLP): Language modeling, text generation, and machine translation.\n",
    "- Speech Recognition: Converting spoken language into text.\n",
    "- Time Series Analysis: Stock price prediction, weather forecasting, etc.\n",
    "\n",
    "## Challenges with RNNs\n",
    "- **Vanishing Gradient Problem**: Difficulty in learning long-term dependencies.\n",
    "- **Exploding Gradient Problem**: Gradients can grow uncontrollably during training.\n",
    "\n",
    "To address these challenges, advanced architectures like Long Short-Term Memory (LSTM) and Gated Recurrent Units (GRU) were developed."
   ]
  },
  {
   "cell_type": "markdown",
   "metadata": {},
   "source": [
    "![RNN Image](https://images.ctfassets.net/8r8i0zgzl3nn/23rImWFHujx2C0PniLerQY/175c83cdc2b7bf02525652f966664444/introduction-to-rnns-image-3.png)"
   ]
  }
 ],
 "metadata": {
  "kernelspec": {
   "display_name": "base",
   "language": "python",
   "name": "python3"
  },
  "language_info": {
   "name": "python",
   "version": "3.12.3"
  }
 },
 "nbformat": 4,
 "nbformat_minor": 2
}
