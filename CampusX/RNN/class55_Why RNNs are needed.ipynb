{
 "cells": [
  {
   "cell_type": "markdown",
   "metadata": {},
   "source": [
    "# Sequential Data and Time Series Data\n",
    "\n",
    "- **Sequential data** refers to data points that are ordered in a sequence, where the order of the data points matters. Each data point is dependent on the previous one in some way. Examples of sequential data include text, audio signals, and DNA sequences.\n",
    "\n",
    "- **Time series data** is a specific type of sequential data where the sequence is indexed by time. It consists of observations collected at successive points in time, often at regular intervals. Examples of time series data include stock prices, weather data, and sensor readings.\n",
    "\n",
    "### Examples:\n",
    "- **Sequential Data**: A sentence in natural language processing, where the order of words is important.\n",
    "- **Time Series Data**: Daily closing prices of a stock over a month.\n",
    "#### Example Code:\n",
    "To illustrate time series data, consider the following Python code snippet:\n",
    "\n",
    "```python\n",
    "import pandas as pd\n",
    "\n",
    "# Example time series data\n",
    "data = {'Date': ['2023-01-01', '2023-01-02', '2023-01-03'],\n",
    "    'Stock Price': [150, 152, 149]}\n",
    "df = pd.DataFrame(data)\n",
    "df['Date'] = pd.to_datetime(df['Date'])\n",
    "df.set_index('Date', inplace=True)\n",
    "\n",
    "print(df)\n",
    "```\n",
    "\n",
    "This code creates a DataFrame with dates as the index and stock prices as the values, representing time series data."
   ]
  }
 ],
 "metadata": {
  "kernelspec": {
   "display_name": "base",
   "language": "python",
   "name": "python3"
  },
  "language_info": {
   "name": "python",
   "version": "3.12.3"
  }
 },
 "nbformat": 4,
 "nbformat_minor": 2
}
