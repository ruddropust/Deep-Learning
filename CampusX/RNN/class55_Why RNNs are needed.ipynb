{
 "cells": [
  {
   "cell_type": "markdown",
   "metadata": {},
   "source": [
    "# Sequential Data and Time Series Data\n",
    "\n",
    "- **Sequential data** refers to data points that are ordered in a sequence, where the order of the data points matters. Each data point is dependent on the previous one in some way. Examples of sequential data include text, audio signals, and DNA sequences.\n",
    "\n",
    "- **Time series data** is a specific type of sequential data where the sequence is indexed by time. It consists of observations collected at successive points in time, often at regular intervals. Examples of time series data include stock prices, weather data, and sensor readings.\n",
    "\n",
    "### Examples:\n",
    "- **Sequential Data**: A sentence in natural language processing, where the order of words is important.\n",
    "- **Time Series Data**: Daily closing prices of a stock over a month.\n",
    "#### Example Code:\n",
    "To illustrate time series data, consider the following Python code snippet:\n",
    "\n",
    "```python\n",
    "import pandas as pd\n",
    "\n",
    "# Example time series data\n",
    "data = {'Date': ['2023-01-01', '2023-01-02', '2023-01-03'],\n",
    "    'Stock Price': [150, 152, 149]}\n",
    "df = pd.DataFrame(data)\n",
    "df['Date'] = pd.to_datetime(df['Date'])\n",
    "df.set_index('Date', inplace=True)\n",
    "\n",
    "print(df)\n",
    "```\n",
    "\n",
    "This code creates a DataFrame with dates as the index and stock prices as the values, representing time series data."
   ]
  },
  {
   "cell_type": "markdown",
   "metadata": {},
   "source": [
    "### RNN vs ANN\n",
    "\n",
    "- **Recurrent Neural Networks (RNNs)** and **Artificial Neural Networks (ANNs)** are both types of neural networks, but they are designed for different types of tasks.\n",
    "\n",
    "#### Key Differences:\n",
    "\n",
    "| Feature         | ANN                                                                 | RNN                                                                 |\n",
    "|------------------|---------------------------------------------------------------------|---------------------------------------------------------------------|\n",
    "| **Structure**    | Feedforward structure where data flows in one direction, from input to output. | Contains loops, allowing information to persist and enabling the network to process sequential data. |\n",
    "| **Data Handling**| Suitable for fixed-size input and output, such as image classification. | Designed for sequential data, such as time series, text, or speech. |\n",
    "| **Memory**       | Does not have memory of previous inputs.                           | Maintains a hidden state that acts as memory, capturing information about previous inputs. |\n",
    "| **Applications** | Image recognition, tabular data analysis, etc.                    | Language modeling, speech recognition, time series forecasting, etc. |\n",
    "\n",
    "#### Example:\n",
    "- **ANN**: Predicting house prices based on features like size, location, and number of rooms.\n",
    "- **RNN**: Predicting the next word in a sentence based on the previous words."
   ]
  },
  {
   "cell_type": "markdown",
   "metadata": {},
   "source": []
  },
  {
   "cell_type": "markdown",
   "metadata": {},
   "source": []
  }
 ],
 "metadata": {
  "kernelspec": {
   "display_name": "base",
   "language": "python",
   "name": "python3"
  },
  "language_info": {
   "name": "python",
   "version": "3.12.3"
  }
 },
 "nbformat": 4,
 "nbformat_minor": 2
}
