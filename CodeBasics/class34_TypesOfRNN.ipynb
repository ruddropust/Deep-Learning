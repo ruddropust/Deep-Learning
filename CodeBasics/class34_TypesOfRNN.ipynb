{
 "cells": [
  {
   "cell_type": "markdown",
   "metadata": {},
   "source": [
    "# What is RNN?\n",
    "\n",
    "Recurrent Neural Networks (RNNs) are a type of artificial neural network designed for sequence data. Unlike traditional feedforward neural networks, RNNs have connections that form directed cycles, allowing them to maintain a memory of previous inputs. This makes them particularly well-suited for tasks involving sequential or time-series data, such as:\n",
    "\n",
    "- Natural Language Processing (NLP)\n",
    "- Speech Recognition\n",
    "- Time-Series Prediction\n",
    "- Music Generation\n",
    "\n",
    "### Key Features of RNNs:\n",
    "1. **Sequential Processing**: RNNs process input sequences one element at a time, maintaining a hidden state that captures information about previous elements.\n",
    "2. **Shared Weights**: The same weights are applied across all time steps, reducing the number of parameters.\n",
    "3. **Backpropagation Through Time (BPTT)**: RNNs are trained using a variant of backpropagation that accounts for the sequential nature of the data.\n",
    "\n",
    "### Challenges:\n",
    "- **Vanishing/Exploding Gradients**: Training RNNs can be difficult due to gradients becoming too small or too large during backpropagation.\n",
    "- **Long-Term Dependencies**: Standard RNNs struggle to capture dependencies over long sequences.\n",
    "\n",
    "### Variants of RNNs:\n",
    "To address these challenges, advanced architectures like Long Short-Term Memory (LSTM) and Gated Recurrent Unit (GRU) were developed, which are capable of learning long-term dependencies more effectively.\n",
    "\n",
    "### Use Cases of RNNs:\n",
    "- **Language Modeling and Text Generation**: Predicting the next word in a sentence or generating coherent text.\n",
    "- **Machine Translation**: Translating text from one language to another.\n",
    "- **Speech-to-Text Conversion**: Converting spoken language into written text.\n",
    "- **Sentiment Analysis**: Determining the sentiment of a given text (e.g., positive, negative, neutral).\n",
    "- **Video Analysis**: Understanding and classifying video sequences.\n",
    "- **Stock Market Prediction**: Analyzing time-series data to predict stock prices.\n",
    "- **Handwriting Recognition**: Recognizing handwritten text from images or sequences."
   ]
  },
  {
   "cell_type": "markdown",
   "metadata": {},
   "source": []
  }
 ],
 "metadata": {
  "kernelspec": {
   "display_name": "base",
   "language": "python",
   "name": "python3"
  },
  "language_info": {
   "name": "python",
   "version": "3.12.3"
  }
 },
 "nbformat": 4,
 "nbformat_minor": 2
}
