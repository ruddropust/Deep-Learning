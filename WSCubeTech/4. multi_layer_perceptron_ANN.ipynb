{
 "cells": [
  {
   "cell_type": "markdown",
   "metadata": {},
   "source": [
    "# Artificial Neural Network (ANN)\n",
    "\n",
    "An Artificial Neural Network (ANN) is a computational model inspired by the way biological neural networks in the human brain process information. ANNs consist of interconnected groups of artificial neurons, which process information using a connectionist approach to computation. They are used to model complex patterns and prediction problems.\n",
    "\n",
    "Key components of an ANN include:\n",
    "- **Neurons (Nodes):** Basic units that receive input, process it, and pass the output to the next layer.\n",
    "- **Layers:** Organized groups of neurons. Typically, ANNs have an input layer, one or more hidden layers, and an output layer.\n",
    "- **Weights:** Parameters that adjust as learning proceeds, determining the strength of the connection between neurons.\n",
    "- **Activation Function:** A mathematical function applied to the neuron's input to determine its output.\n",
    "\n",
    "ANNs are widely used in various applications such as image and speech recognition, natural language processing, and autonomous systems."
   ]
  },
  {
   "cell_type": "markdown",
   "metadata": {},
   "source": [
    "\n",
    "## Best Type of Dataset for ANN\n",
    "\n",
    "Artificial Neural Networks (ANNs) are highly versatile and can be used with various types of datasets. However, they perform best with the following types of datasets:\n",
    "\n",
    "1. **Large Datasets:** ANNs require a large amount of data to learn effectively. The more data available, the better the network can learn and generalize.\n",
    "\n",
    "2. **Labeled Data:** Supervised learning with labeled data is ideal for ANNs. The labels help the network learn the relationship between input features and the target output.\n",
    "\n",
    "3. **Complex Patterns:** Datasets with complex, non-linear relationships between features are well-suited for ANNs. They can capture intricate patterns that simpler models might miss.\n",
    "\n",
    "4. **High-Dimensional Data:** ANNs can handle datasets with many features (high-dimensional data) effectively, making them suitable for tasks like image and speech recognition.\n",
    "\n",
    "5. **Structured and Unstructured Data:** ANNs can work with both structured data (e.g., tabular data) and unstructured data (e.g., images, text, audio).\n",
    "\n",
    "Examples of datasets well-suited for ANNs include:\n",
    "- Image datasets (e.g., MNIST, CIFAR-10)\n",
    "- Text datasets (e.g., sentiment analysis, language translation)\n",
    "- Audio datasets (e.g., speech recognition)\n",
    "- Time-series datasets (e.g., stock prices, weather data)\n",
    "\n",
    "In summary, ANNs are best for large, labeled datasets with complex patterns and high-dimensional features, whether structured or unstructured.\n"
   ]
  },
  {
   "cell_type": "markdown",
   "metadata": {},
   "source": [
    "MLP networks are used for ``supervised learning format``. A typical learning algorithm for MLP networks is also called ``back propagation's algorithm.``\n",
    "\n",
    "A multilayer perceptron (MLP) is a ``feed forward artificial neural network`` that ``generates a set of outputs`` from a set of inputs. An MLP is characterized by several layers of input nodes connected as a directed graph between the input nodes connected as a directed graph between the input and output layers. MLP uses backpropagation for training the network. MLP is a deep learning method."
   ]
  },
  {
   "cell_type": "markdown",
   "metadata": {},
   "source": [
    "![](https://images.tpointtech.com/tutorial/tensorflow/images/multi-layer-perceptron-in-tensorflow.png)"
   ]
  },
  {
   "cell_type": "markdown",
   "metadata": {},
   "source": [
    "![Image](https://github.com/user-attachments/assets/399ca345-e69d-4e66-b7d6-5003f3925a9c)"
   ]
  }
 ],
 "metadata": {
  "kernelspec": {
   "display_name": "base",
   "language": "python",
   "name": "python3"
  },
  "language_info": {
   "name": "python",
   "version": "3.12.7"
  }
 },
 "nbformat": 4,
 "nbformat_minor": 2
}
