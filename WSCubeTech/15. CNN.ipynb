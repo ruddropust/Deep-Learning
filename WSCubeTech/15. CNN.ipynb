{
 "cells": [
  {
   "cell_type": "markdown",
   "metadata": {},
   "source": [
    "\n",
    "A Convolutional Neural Network (CNN) is a type of deep learning algorithm that is particularly effective for analyzing visual data. CNNs are designed to automatically and adaptively learn spatial hierarchies of features from input images. They are composed of multiple layers, including:\n",
    "\n",
    "1. **Convolutional Layers**: These layers apply a convolution operation to the input, passing the result to the next layer. They are responsible for detecting local patterns such as edges, textures, and shapes.\n",
    "\n",
    "2. **Pooling Layers**: These layers perform down-sampling (subsampling or decimation) operations, reducing the dimensionality of the feature maps and making the network more computationally efficient.\n",
    "\n",
    "3. **Fully Connected Layers**: These layers are similar to the traditional neural networks and are used to combine the features learned by the convolutional and pooling layers to make the final prediction.\n",
    "\n",
    "4. **Activation Functions**: Non-linear functions such as ReLU (Rectified Linear Unit) are applied to introduce non-linearity into the model, allowing it to learn more complex patterns.\n",
    "\n",
    "CNNs are widely used in image and video recognition, recommender systems, image classification, medical image analysis, and natural language processing.\n"
   ]
  },
  {
   "cell_type": "markdown",
   "metadata": {},
   "source": [
    "![Image](https://encrypted-tbn0.gstatic.com/images?q=tbn:ANd9GcRd4a1s7dSzhSIGbvMn4_3qe1Z4MRbAWFWmXQ&s)"
   ]
  },
  {
   "cell_type": "markdown",
   "metadata": {},
   "source": [
    "![CNN Architecture](https://github.com/user-attachments/assets/e184a4d0-8de2-4e33-9c2b-32201169802a)"
   ]
  },
  {
   "cell_type": "markdown",
   "metadata": {},
   "source": [
    "\n",
    "**Convolutional Layer:** This layer applies a set of filters (kernels) to the input image. Each filter slides over the image and performs a convolution operation, producing a feature map. This helps in detecting various features like edges, textures, etc.\n",
    "\n",
    "**Activation Function:** After the convolution operation, an activation function (usually ReLU) is applied to introduce non-linearity into the model. This helps the network learn more complex patterns.\n",
    "\n",
    "**Pooling Layer:** This layer reduces the spatial dimensions (width and height) of the feature maps, typically using max pooling. This helps in reducing the computational load and also makes the detection of features invariant to small translations.\n",
    "\n",
    "**Fully Connected Layer:** After several convolutional and pooling layers, the high-level reasoning in the neural network is done via fully connected layers. These layers take the flattened feature maps and output the final classification.\n",
    "\n",
    "**Output Layer:** The final layer of the CNN is usually a softmax layer that outputs the probabilities for each class."
   ]
  },
  {
   "cell_type": "markdown",
   "metadata": {},
   "source": [
    "![Image](https://github.com/user-attachments/assets/01c01da0-71d3-4a53-8ca2-fa7d671a8fec)\n",
    "![Image](https://github.com/user-attachments/assets/ed024270-3a77-4eee-aa36-647eb87ef817)\n"
   ]
  }
 ],
 "metadata": {
  "kernelspec": {
   "display_name": "base",
   "language": "python",
   "name": "python3"
  },
  "language_info": {
   "name": "python",
   "version": "3.12.7"
  }
 },
 "nbformat": 4,
 "nbformat_minor": 2
}
