{
 "cells": [
  {
   "cell_type": "markdown",
   "metadata": {},
   "source": [
    "### Forward Propagation\n",
    "Forward propagation is the process by which the input data is passed through the neural network to generate an output. It involves the following steps:\n",
    "1. **Input Layer**: The input data is fed into the input layer of the neural network.\n",
    "2. **Hidden Layers**: The data is then passed through one or more hidden layers. Each neuron in a hidden layer takes a weighted sum of the inputs, applies an activation function, and passes the result to the next layer.\n",
    "3. **Output Layer**: Finally, the data reaches the output layer, where the final prediction is made.\n",
    "\n",
    "### Back Propagation\n",
    "Back propagation is the process by which the neural network learns from the errors in its predictions. It involves the following steps:\n",
    "1. **Calculate Error**: The error is calculated by comparing the predicted output with the actual output.\n",
    "2. **Output Layer**: The error is propagated back from the output layer to the hidden layers. The gradients of the error with respect to the weights are calculated.\n",
    "3. **Hidden Layers**: The gradients are used to update the weights of the neurons in the hidden layers.\n",
    "4. **Input Layer**: The process continues until the input layer is reached, and all weights are updated to minimize the error.\n",
    "\n",
    "Both forward and back propagation are essential for training neural networks and improving their accuracy."
   ]
  }
 ],
 "metadata": {
  "kernelspec": {
   "display_name": "base",
   "language": "python",
   "name": "python3"
  },
  "language_info": {
   "name": "python",
   "version": "3.12.7"
  }
 },
 "nbformat": 4,
 "nbformat_minor": 2
}
