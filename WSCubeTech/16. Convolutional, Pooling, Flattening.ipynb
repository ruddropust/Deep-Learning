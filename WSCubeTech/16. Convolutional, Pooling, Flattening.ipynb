{
 "cells": [
  {
   "cell_type": "markdown",
   "metadata": {},
   "source": [
    "### Convolution in CNNs\n",
    "\n",
    "Convolution is a fundamental operation in Convolutional Neural Networks (CNNs) used primarily for image processing tasks. It involves the following steps:\n",
    "\n",
    "1. **Filter (Kernel)**: A small matrix of weights, typically of size $3 \\times 3$ or $5 \\times 5$, which is used to scan over the input image.\n",
    "2. **Sliding Window**: The filter slides over the input image, performing element-wise multiplication and summing the results to produce a single output value.\n",
    "3. **Feature Map**: The output values from the sliding window operation form a new matrix called the feature map or convolved feature.\n",
    "4. **Stride**: The number of pixels by which the filter moves over the input image. A stride of 1 means the filter moves one pixel at a time.\n",
    "5. **Padding**: Adding extra pixels around the input image to control the spatial dimensions of the output feature map. Common padding types are 'valid' (no padding) and 'same' (padding to keep the output size the same as the input size).\n",
    "\n",
    "The convolution operation can be described by the following equation:\n",
    "\n",
    "$$\n",
    "(I * K)(i, j) = \\sum_m \\sum_n I(i+m, j+n) \\cdot K(m, n)\n",
    "$$\n",
    "\n",
    "</br>\n",
    "</br>\n",
    "\n",
    "$$\n",
    "c = \\left[ (f * g)(t) = \\int_{0}^{t} f(\\tau) g(t - \\tau) \\, d\\tau \\right]\n",
    "$$\n",
    "\n",
    "where:\n",
    "- $I$ is the input image  \n",
    "- $K$ is the filter (kernel)  \n",
    "- $(i, j)$ are the coordinates of the output feature map  \n",
    "- $m$ and $n$ are the coordinates within the filter  \n",
    "\n",
    "Convolution helps in extracting features such as edges, textures, and patterns from the input image, which are crucial for tasks like image classification, object detection, and segmentation.\n"
   ]
  },
  {
   "cell_type": "markdown",
   "metadata": {},
   "source": [
    "![Image](https://github.com/user-attachments/assets/f9d937d9-5098-46e5-a7f7-4c1242ce6983)"
   ]
  },
  {
   "cell_type": "markdown",
   "metadata": {},
   "source": [
    "![Image](https://github.com/user-attachments/assets/543fd3f2-79ca-4ed6-aec4-7cf3b4961c12)"
   ]
  },
  {
   "cell_type": "markdown",
   "metadata": {},
   "source": [
    "<button><a href=\"https://deeplizard.com/resource/pavq7noze2\">Click here to Show Convulation Graphically</a></button>"
   ]
  },
  {
   "cell_type": "markdown",
   "metadata": {},
   "source": [
    "\n",
    "### Pooling in CNNs\n",
    "\n",
    "Pooling is another essential operation in Convolutional Neural Networks (CNNs) that is used to reduce the spatial dimensions of the input feature maps. This helps in reducing the computational complexity and preventing overfitting. There are two main types of pooling:\n",
    "\n",
    "1. **Max Pooling**: This operation selects the maximum value from each patch of the feature map. It helps in retaining the most prominent features while reducing the spatial dimensions.\n",
    "2. **Average Pooling**: This operation calculates the average value of each patch of the feature map. It provides a smoother representation of the feature map.\n",
    "\n",
    "The pooling operation involves the following steps:\n",
    "\n",
    "1. **Filter (Kernel)**: A small matrix, typically of size $2 \\times 2$ or $3 \\times 3$, which is used to scan over the input feature map.\n",
    "2. **Sliding Window**: The filter slides over the input feature map, performing the pooling operation (max or average) on each patch.\n",
    "3. **Stride**: The number of pixels by which the filter moves over the input feature map. A stride of 2 means the filter moves two pixels at a time.\n",
    "\n",
    "Pooling can be described by the following equations:\n",
    "\n",
    "- **Max Pooling**:\n",
    "$$\n",
    "P_{max}(i, j) = \\max \\{ I(i+m, j+n) \\}\n",
    "$$\n",
    "\n",
    "- **Average Pooling**:\n",
    "$$\n",
    "P_{avg}(i, j) = \\frac{1}{mn} \\sum_{m} \\sum_{n} I(i+m, j+n)\n",
    "$$\n",
    "\n",
    "where:\n",
    "- $I$ is the input feature map  \n",
    "- $(i, j)$ are the coordinates of the output pooled feature map  \n",
    "- $m$ and $n$ are the coordinates within the filter  \n",
    "\n",
    "Pooling helps in achieving translation invariance and reducing the spatial dimensions, which is crucial for tasks like image classification and object detection.\n"
   ]
  },
  {
   "cell_type": "markdown",
   "metadata": {},
   "source": [
    "![Image](https://github.com/user-attachments/assets/aeac8560-7378-466d-a632-f0c2b0d4b1b0)"
   ]
  },
  {
   "cell_type": "markdown",
   "metadata": {},
   "source": [
    "<button><a href=\"https://deeplizard.com/resource/pavq7noze3\">Click here to Show MaxPool Graphically</a></button>"
   ]
  },
  {
   "cell_type": "markdown",
   "metadata": {},
   "source": [
    "\n",
    "### Flattening in CNNs\n",
    "\n",
    "Flattening is a process used in Convolutional Neural Networks (CNNs) to transform the multi-dimensional output of the convolutional and pooling layers into a one-dimensional vector. This step is essential before feeding the data into fully connected layers (dense layers) for classification or regression tasks.\n",
    "\n",
    "The flattening operation involves the following steps:\n",
    "\n",
    "1. **Input Feature Map**: The multi-dimensional array resulting from the convolutional and pooling layers.\n",
    "2. **Flattening**: Converting the multi-dimensional array into a one-dimensional vector by concatenating the rows or columns.\n",
    "\n",
    "For example, if the output feature map from the pooling layer is of shape (4, 4, 3), flattening will convert it into a one-dimensional vector of shape (48,).\n",
    "\n",
    "Flattening helps in connecting the convolutional and pooling layers to the fully connected layers, enabling the network to make predictions based on the extracted features.\n"
   ]
  },
  {
   "cell_type": "markdown",
   "metadata": {},
   "source": [
    "![Image](https://github.com/user-attachments/assets/e6bc3e03-732d-495b-b492-d7769871e364)"
   ]
  },
  {
   "cell_type": "markdown",
   "metadata": {},
   "source": [
    "![Image](https://github.com/user-attachments/assets/52dfa6f6-e2aa-4ce5-8676-a0c990172b46)"
   ]
  },
  {
   "cell_type": "markdown",
   "metadata": {},
   "source": [
    "### Terms in one shot\n",
    "- Convulation - important edge getting\n",
    "- Pool - Size reduced\n",
    "- Flatten - Convert 1 D array"
   ]
  }
 ],
 "metadata": {
  "kernelspec": {
   "display_name": "base",
   "language": "python",
   "name": "python3"
  },
  "language_info": {
   "name": "python",
   "version": "3.12.7"
  }
 },
 "nbformat": 4,
 "nbformat_minor": 2
}
